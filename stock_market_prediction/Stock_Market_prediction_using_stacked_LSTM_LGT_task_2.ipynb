{
  "cells": [
    {
      "cell_type": "markdown",
      "metadata": {
        "id": "INjGpGU64FRG"
      },
      "source": [
        "# LGMVIP Data Science Internship task 2 - September\n",
        "\n",
        "*  **Stock market prediction and forecasting using stacked LSTM**\n",
        "\n"
      ]
    },
    {
      "cell_type": "markdown",
      "source": [
        "Done by\n",
        "P.Abhiram Reddy"
      ],
      "metadata": {
        "id": "FETg_3xjJ5XB"
      }
    },
    {
      "cell_type": "markdown",
      "source": [
        "### Data Preprocessing"
      ],
      "metadata": {
        "id": "bt3jg62Iw0aH"
      }
    },
    {
      "cell_type": "code",
      "execution_count": null,
      "metadata": {
        "id": "MlGMujvV4FRH"
      },
      "outputs": [],
      "source": [
        "import numpy as np\n",
        "import matplotlib.pyplot as plt\n",
        "import pandas as pd"
      ]
    },
    {
      "cell_type": "code",
      "execution_count": null,
      "metadata": {
        "id": "oCCTEf4h4FRI"
      },
      "outputs": [],
      "source": [
        "# Importing the dataset\n",
        "df = pd.read_csv('NSE-TATAGLOBA-train.csv')"
      ]
    },
    {
      "cell_type": "code",
      "source": [
        "train_data = df.iloc[:, 5:6].values"
      ],
      "metadata": {
        "id": "okaBhxwNxQii"
      },
      "execution_count": null,
      "outputs": []
    },
    {
      "cell_type": "code",
      "source": [
        "train_data.shape"
      ],
      "metadata": {
        "colab": {
          "base_uri": "https://localhost:8080/"
        },
        "id": "RfdxODbB4TAW",
        "outputId": "d901c835-61a6-423d-d4fa-37f384abe21d"
      },
      "execution_count": null,
      "outputs": [
        {
          "output_type": "execute_result",
          "data": {
            "text/plain": [
              "(2035, 1)"
            ]
          },
          "metadata": {},
          "execution_count": 43
        }
      ]
    },
    {
      "cell_type": "code",
      "execution_count": null,
      "metadata": {
        "id": "gIeVbIzP4FRJ",
        "outputId": "209f2740-7315-43c0-e531-f30001245f56",
        "colab": {
          "base_uri": "https://localhost:8080/",
          "height": 206
        }
      },
      "outputs": [
        {
          "output_type": "execute_result",
          "data": {
            "text/plain": [
              "         Date    Open    High     Low    Last   Close  Total Trade Quantity  \\\n",
              "0  2018-09-28  234.05  235.95  230.20  233.50  233.75               3069914   \n",
              "1  2018-09-27  234.55  236.80  231.10  233.80  233.25               5082859   \n",
              "2  2018-09-26  240.00  240.00  232.50  235.00  234.25               2240909   \n",
              "3  2018-09-25  233.30  236.75  232.00  236.25  236.10               2349368   \n",
              "4  2018-09-24  233.55  239.20  230.75  234.00  233.30               3423509   \n",
              "\n",
              "   Turnover (Lacs)  \n",
              "0          7162.35  \n",
              "1         11859.95  \n",
              "2          5248.60  \n",
              "3          5503.90  \n",
              "4          7999.55  "
            ],
            "text/html": [
              "\n",
              "  <div id=\"df-03d350ea-3deb-4e83-9c5e-ba053bcaa1db\" class=\"colab-df-container\">\n",
              "    <div>\n",
              "<style scoped>\n",
              "    .dataframe tbody tr th:only-of-type {\n",
              "        vertical-align: middle;\n",
              "    }\n",
              "\n",
              "    .dataframe tbody tr th {\n",
              "        vertical-align: top;\n",
              "    }\n",
              "\n",
              "    .dataframe thead th {\n",
              "        text-align: right;\n",
              "    }\n",
              "</style>\n",
              "<table border=\"1\" class=\"dataframe\">\n",
              "  <thead>\n",
              "    <tr style=\"text-align: right;\">\n",
              "      <th></th>\n",
              "      <th>Date</th>\n",
              "      <th>Open</th>\n",
              "      <th>High</th>\n",
              "      <th>Low</th>\n",
              "      <th>Last</th>\n",
              "      <th>Close</th>\n",
              "      <th>Total Trade Quantity</th>\n",
              "      <th>Turnover (Lacs)</th>\n",
              "    </tr>\n",
              "  </thead>\n",
              "  <tbody>\n",
              "    <tr>\n",
              "      <th>0</th>\n",
              "      <td>2018-09-28</td>\n",
              "      <td>234.05</td>\n",
              "      <td>235.95</td>\n",
              "      <td>230.20</td>\n",
              "      <td>233.50</td>\n",
              "      <td>233.75</td>\n",
              "      <td>3069914</td>\n",
              "      <td>7162.35</td>\n",
              "    </tr>\n",
              "    <tr>\n",
              "      <th>1</th>\n",
              "      <td>2018-09-27</td>\n",
              "      <td>234.55</td>\n",
              "      <td>236.80</td>\n",
              "      <td>231.10</td>\n",
              "      <td>233.80</td>\n",
              "      <td>233.25</td>\n",
              "      <td>5082859</td>\n",
              "      <td>11859.95</td>\n",
              "    </tr>\n",
              "    <tr>\n",
              "      <th>2</th>\n",
              "      <td>2018-09-26</td>\n",
              "      <td>240.00</td>\n",
              "      <td>240.00</td>\n",
              "      <td>232.50</td>\n",
              "      <td>235.00</td>\n",
              "      <td>234.25</td>\n",
              "      <td>2240909</td>\n",
              "      <td>5248.60</td>\n",
              "    </tr>\n",
              "    <tr>\n",
              "      <th>3</th>\n",
              "      <td>2018-09-25</td>\n",
              "      <td>233.30</td>\n",
              "      <td>236.75</td>\n",
              "      <td>232.00</td>\n",
              "      <td>236.25</td>\n",
              "      <td>236.10</td>\n",
              "      <td>2349368</td>\n",
              "      <td>5503.90</td>\n",
              "    </tr>\n",
              "    <tr>\n",
              "      <th>4</th>\n",
              "      <td>2018-09-24</td>\n",
              "      <td>233.55</td>\n",
              "      <td>239.20</td>\n",
              "      <td>230.75</td>\n",
              "      <td>234.00</td>\n",
              "      <td>233.30</td>\n",
              "      <td>3423509</td>\n",
              "      <td>7999.55</td>\n",
              "    </tr>\n",
              "  </tbody>\n",
              "</table>\n",
              "</div>\n",
              "    <div class=\"colab-df-buttons\">\n",
              "\n",
              "  <div class=\"colab-df-container\">\n",
              "    <button class=\"colab-df-convert\" onclick=\"convertToInteractive('df-03d350ea-3deb-4e83-9c5e-ba053bcaa1db')\"\n",
              "            title=\"Convert this dataframe to an interactive table.\"\n",
              "            style=\"display:none;\">\n",
              "\n",
              "  <svg xmlns=\"http://www.w3.org/2000/svg\" height=\"24px\" viewBox=\"0 -960 960 960\">\n",
              "    <path d=\"M120-120v-720h720v720H120Zm60-500h600v-160H180v160Zm220 220h160v-160H400v160Zm0 220h160v-160H400v160ZM180-400h160v-160H180v160Zm440 0h160v-160H620v160ZM180-180h160v-160H180v160Zm440 0h160v-160H620v160Z\"/>\n",
              "  </svg>\n",
              "    </button>\n",
              "\n",
              "  <style>\n",
              "    .colab-df-container {\n",
              "      display:flex;\n",
              "      gap: 12px;\n",
              "    }\n",
              "\n",
              "    .colab-df-convert {\n",
              "      background-color: #E8F0FE;\n",
              "      border: none;\n",
              "      border-radius: 50%;\n",
              "      cursor: pointer;\n",
              "      display: none;\n",
              "      fill: #1967D2;\n",
              "      height: 32px;\n",
              "      padding: 0 0 0 0;\n",
              "      width: 32px;\n",
              "    }\n",
              "\n",
              "    .colab-df-convert:hover {\n",
              "      background-color: #E2EBFA;\n",
              "      box-shadow: 0px 1px 2px rgba(60, 64, 67, 0.3), 0px 1px 3px 1px rgba(60, 64, 67, 0.15);\n",
              "      fill: #174EA6;\n",
              "    }\n",
              "\n",
              "    .colab-df-buttons div {\n",
              "      margin-bottom: 4px;\n",
              "    }\n",
              "\n",
              "    [theme=dark] .colab-df-convert {\n",
              "      background-color: #3B4455;\n",
              "      fill: #D2E3FC;\n",
              "    }\n",
              "\n",
              "    [theme=dark] .colab-df-convert:hover {\n",
              "      background-color: #434B5C;\n",
              "      box-shadow: 0px 1px 3px 1px rgba(0, 0, 0, 0.15);\n",
              "      filter: drop-shadow(0px 1px 2px rgba(0, 0, 0, 0.3));\n",
              "      fill: #FFFFFF;\n",
              "    }\n",
              "  </style>\n",
              "\n",
              "    <script>\n",
              "      const buttonEl =\n",
              "        document.querySelector('#df-03d350ea-3deb-4e83-9c5e-ba053bcaa1db button.colab-df-convert');\n",
              "      buttonEl.style.display =\n",
              "        google.colab.kernel.accessAllowed ? 'block' : 'none';\n",
              "\n",
              "      async function convertToInteractive(key) {\n",
              "        const element = document.querySelector('#df-03d350ea-3deb-4e83-9c5e-ba053bcaa1db');\n",
              "        const dataTable =\n",
              "          await google.colab.kernel.invokeFunction('convertToInteractive',\n",
              "                                                    [key], {});\n",
              "        if (!dataTable) return;\n",
              "\n",
              "        const docLinkHtml = 'Like what you see? Visit the ' +\n",
              "          '<a target=\"_blank\" href=https://colab.research.google.com/notebooks/data_table.ipynb>data table notebook</a>'\n",
              "          + ' to learn more about interactive tables.';\n",
              "        element.innerHTML = '';\n",
              "        dataTable['output_type'] = 'display_data';\n",
              "        await google.colab.output.renderOutput(dataTable, element);\n",
              "        const docLink = document.createElement('div');\n",
              "        docLink.innerHTML = docLinkHtml;\n",
              "        element.appendChild(docLink);\n",
              "      }\n",
              "    </script>\n",
              "  </div>\n",
              "\n",
              "\n",
              "<div id=\"df-aef396fa-c77c-4b3d-9022-765c948667b9\">\n",
              "  <button class=\"colab-df-quickchart\" onclick=\"quickchart('df-aef396fa-c77c-4b3d-9022-765c948667b9')\"\n",
              "            title=\"Suggest charts.\"\n",
              "            style=\"display:none;\">\n",
              "\n",
              "<svg xmlns=\"http://www.w3.org/2000/svg\" height=\"24px\"viewBox=\"0 0 24 24\"\n",
              "     width=\"24px\">\n",
              "    <g>\n",
              "        <path d=\"M19 3H5c-1.1 0-2 .9-2 2v14c0 1.1.9 2 2 2h14c1.1 0 2-.9 2-2V5c0-1.1-.9-2-2-2zM9 17H7v-7h2v7zm4 0h-2V7h2v10zm4 0h-2v-4h2v4z\"/>\n",
              "    </g>\n",
              "</svg>\n",
              "  </button>\n",
              "\n",
              "<style>\n",
              "  .colab-df-quickchart {\n",
              "      --bg-color: #E8F0FE;\n",
              "      --fill-color: #1967D2;\n",
              "      --hover-bg-color: #E2EBFA;\n",
              "      --hover-fill-color: #174EA6;\n",
              "      --disabled-fill-color: #AAA;\n",
              "      --disabled-bg-color: #DDD;\n",
              "  }\n",
              "\n",
              "  [theme=dark] .colab-df-quickchart {\n",
              "      --bg-color: #3B4455;\n",
              "      --fill-color: #D2E3FC;\n",
              "      --hover-bg-color: #434B5C;\n",
              "      --hover-fill-color: #FFFFFF;\n",
              "      --disabled-bg-color: #3B4455;\n",
              "      --disabled-fill-color: #666;\n",
              "  }\n",
              "\n",
              "  .colab-df-quickchart {\n",
              "    background-color: var(--bg-color);\n",
              "    border: none;\n",
              "    border-radius: 50%;\n",
              "    cursor: pointer;\n",
              "    display: none;\n",
              "    fill: var(--fill-color);\n",
              "    height: 32px;\n",
              "    padding: 0;\n",
              "    width: 32px;\n",
              "  }\n",
              "\n",
              "  .colab-df-quickchart:hover {\n",
              "    background-color: var(--hover-bg-color);\n",
              "    box-shadow: 0 1px 2px rgba(60, 64, 67, 0.3), 0 1px 3px 1px rgba(60, 64, 67, 0.15);\n",
              "    fill: var(--button-hover-fill-color);\n",
              "  }\n",
              "\n",
              "  .colab-df-quickchart-complete:disabled,\n",
              "  .colab-df-quickchart-complete:disabled:hover {\n",
              "    background-color: var(--disabled-bg-color);\n",
              "    fill: var(--disabled-fill-color);\n",
              "    box-shadow: none;\n",
              "  }\n",
              "\n",
              "  .colab-df-spinner {\n",
              "    border: 2px solid var(--fill-color);\n",
              "    border-color: transparent;\n",
              "    border-bottom-color: var(--fill-color);\n",
              "    animation:\n",
              "      spin 1s steps(1) infinite;\n",
              "  }\n",
              "\n",
              "  @keyframes spin {\n",
              "    0% {\n",
              "      border-color: transparent;\n",
              "      border-bottom-color: var(--fill-color);\n",
              "      border-left-color: var(--fill-color);\n",
              "    }\n",
              "    20% {\n",
              "      border-color: transparent;\n",
              "      border-left-color: var(--fill-color);\n",
              "      border-top-color: var(--fill-color);\n",
              "    }\n",
              "    30% {\n",
              "      border-color: transparent;\n",
              "      border-left-color: var(--fill-color);\n",
              "      border-top-color: var(--fill-color);\n",
              "      border-right-color: var(--fill-color);\n",
              "    }\n",
              "    40% {\n",
              "      border-color: transparent;\n",
              "      border-right-color: var(--fill-color);\n",
              "      border-top-color: var(--fill-color);\n",
              "    }\n",
              "    60% {\n",
              "      border-color: transparent;\n",
              "      border-right-color: var(--fill-color);\n",
              "    }\n",
              "    80% {\n",
              "      border-color: transparent;\n",
              "      border-right-color: var(--fill-color);\n",
              "      border-bottom-color: var(--fill-color);\n",
              "    }\n",
              "    90% {\n",
              "      border-color: transparent;\n",
              "      border-bottom-color: var(--fill-color);\n",
              "    }\n",
              "  }\n",
              "</style>\n",
              "\n",
              "  <script>\n",
              "    async function quickchart(key) {\n",
              "      const quickchartButtonEl =\n",
              "        document.querySelector('#' + key + ' button');\n",
              "      quickchartButtonEl.disabled = true;  // To prevent multiple clicks.\n",
              "      quickchartButtonEl.classList.add('colab-df-spinner');\n",
              "      try {\n",
              "        const charts = await google.colab.kernel.invokeFunction(\n",
              "            'suggestCharts', [key], {});\n",
              "      } catch (error) {\n",
              "        console.error('Error during call to suggestCharts:', error);\n",
              "      }\n",
              "      quickchartButtonEl.classList.remove('colab-df-spinner');\n",
              "      quickchartButtonEl.classList.add('colab-df-quickchart-complete');\n",
              "    }\n",
              "    (() => {\n",
              "      let quickchartButtonEl =\n",
              "        document.querySelector('#df-aef396fa-c77c-4b3d-9022-765c948667b9 button');\n",
              "      quickchartButtonEl.style.display =\n",
              "        google.colab.kernel.accessAllowed ? 'block' : 'none';\n",
              "    })();\n",
              "  </script>\n",
              "</div>\n",
              "    </div>\n",
              "  </div>\n"
            ]
          },
          "metadata": {},
          "execution_count": 44
        }
      ],
      "source": [
        "df.head()\n"
      ]
    },
    {
      "cell_type": "code",
      "execution_count": null,
      "metadata": {
        "id": "iGWiMgLQ4FRJ"
      },
      "outputs": [],
      "source": [
        "# Feature Scaling\n",
        "from sklearn.preprocessing import MinMaxScaler\n",
        "sc = MinMaxScaler(feature_range = (0, 1))\n",
        "train_scaled = sc.fit_transform(train_data)"
      ]
    },
    {
      "cell_type": "code",
      "source": [
        "train_scaled"
      ],
      "metadata": {
        "colab": {
          "base_uri": "https://localhost:8080/"
        },
        "id": "0Pg9v8xI5e1f",
        "outputId": "a153571c-26d8-4467-bfb8-34bcd5968350"
      },
      "execution_count": null,
      "outputs": [
        {
          "output_type": "execute_result",
          "data": {
            "text/plain": [
              "array([[0.62418301],\n",
              "       [0.62214052],\n",
              "       [0.62622549],\n",
              "       ...,\n",
              "       [0.1621732 ],\n",
              "       [0.16319444],\n",
              "       [0.16584967]])"
            ]
          },
          "metadata": {},
          "execution_count": 46
        }
      ]
    },
    {
      "cell_type": "code",
      "execution_count": null,
      "metadata": {
        "id": "MLq0IQIY4FRK"
      },
      "outputs": [],
      "source": [
        "# Creating a data structure with 50 timesteps and 1 output\n",
        "X_train = []\n",
        "y_train = []\n",
        "for i in range(70, 2035):\n",
        "    X_train.append(train_scaled[i-70:i, 0])\n",
        "    y_train.append(train_scaled[i, 0])\n",
        "X_train, y_train = np.array(X_train), np.array(y_train)"
      ]
    },
    {
      "cell_type": "code",
      "source": [
        "X_train.shape"
      ],
      "metadata": {
        "colab": {
          "base_uri": "https://localhost:8080/"
        },
        "id": "ftdivGTNyBKi",
        "outputId": "805d25be-6cfb-432f-8482-4989ccb986e9"
      },
      "execution_count": null,
      "outputs": [
        {
          "output_type": "execute_result",
          "data": {
            "text/plain": [
              "(1965, 70)"
            ]
          },
          "metadata": {},
          "execution_count": 48
        }
      ]
    },
    {
      "cell_type": "code",
      "execution_count": null,
      "metadata": {
        "id": "zTTmmDqN4FRK"
      },
      "outputs": [],
      "source": [
        "# Reshaping\n",
        "X_train = np.reshape(X_train, (X_train.shape[0], X_train.shape[1], 1))"
      ]
    },
    {
      "cell_type": "code",
      "source": [
        "X_train.shape"
      ],
      "metadata": {
        "colab": {
          "base_uri": "https://localhost:8080/"
        },
        "id": "8LkdQFEQyQ-H",
        "outputId": "90cf096b-e4bd-45b6-b697-9429bb58865a"
      },
      "execution_count": null,
      "outputs": [
        {
          "output_type": "execute_result",
          "data": {
            "text/plain": [
              "(1965, 70, 1)"
            ]
          },
          "metadata": {},
          "execution_count": 50
        }
      ]
    },
    {
      "cell_type": "markdown",
      "source": [
        "###Building LSTM"
      ],
      "metadata": {
        "id": "juObqDgJyYPx"
      }
    },
    {
      "cell_type": "code",
      "execution_count": null,
      "metadata": {
        "id": "4fdlxQie4FRK"
      },
      "outputs": [],
      "source": [
        "\n",
        "# Importing the Keras libraries and packages\n",
        "from keras.models import Sequential\n",
        "from keras.layers import Dense\n",
        "from keras.layers import LSTM\n",
        "from keras.layers import Dropout"
      ]
    },
    {
      "cell_type": "code",
      "execution_count": null,
      "metadata": {
        "id": "ZGrIlgfh4FRK"
      },
      "outputs": [],
      "source": [
        "# Initialising the RNN\n",
        "model = Sequential()\n",
        "\n",
        "# Adding the first LSTM layer and some Dropout regularisation\n",
        "model.add(LSTM(units = 65, return_sequences = True, input_shape = (X_train.shape[1], 1)))\n",
        "model.add(Dropout(0.20))"
      ]
    },
    {
      "cell_type": "code",
      "execution_count": null,
      "metadata": {
        "id": "2LxzMOJt4FRL"
      },
      "outputs": [],
      "source": [
        "# Adding a second LSTM layer and some Dropout regularisation\n",
        "model.add(LSTM(units = 65, return_sequences = True))\n",
        "model.add(Dropout(0.20))"
      ]
    },
    {
      "cell_type": "code",
      "execution_count": null,
      "metadata": {
        "id": "AqzueZxV4FRL"
      },
      "outputs": [],
      "source": [
        "\n",
        "# Adding a third LSTM layer and some Dropout regularisation\n",
        "model.add(LSTM(units = 65, return_sequences = True))\n",
        "model.add(Dropout(0.20))"
      ]
    },
    {
      "cell_type": "code",
      "execution_count": null,
      "metadata": {
        "id": "IRMRn02O4FRM"
      },
      "outputs": [],
      "source": [
        "# Adding a fourth LSTM layer and some Dropout regularisation\n",
        "model.add(LSTM(units = 60))\n",
        "model.add(Dropout(0.20))\n"
      ]
    },
    {
      "cell_type": "code",
      "execution_count": null,
      "metadata": {
        "id": "RKTlGHep4FRM",
        "outputId": "124a8626-8e4a-4842-d156-07e6f2f24c47",
        "colab": {
          "base_uri": "https://localhost:8080/"
        }
      },
      "outputs": [
        {
          "output_type": "stream",
          "name": "stdout",
          "text": [
            "Epoch 1/100\n",
            "123/123 [==============================] - 9s 14ms/step - loss: 0.0077\n",
            "Epoch 2/100\n",
            "123/123 [==============================] - 2s 14ms/step - loss: 0.0030\n",
            "Epoch 3/100\n",
            "123/123 [==============================] - 2s 14ms/step - loss: 0.0026\n",
            "Epoch 4/100\n",
            "123/123 [==============================] - 2s 13ms/step - loss: 0.0022\n",
            "Epoch 5/100\n",
            "123/123 [==============================] - 2s 16ms/step - loss: 0.0021\n",
            "Epoch 6/100\n",
            "123/123 [==============================] - 2s 18ms/step - loss: 0.0020\n",
            "Epoch 7/100\n",
            "123/123 [==============================] - 2s 14ms/step - loss: 0.0019\n",
            "Epoch 8/100\n",
            "123/123 [==============================] - 2s 14ms/step - loss: 0.0016\n",
            "Epoch 9/100\n",
            "123/123 [==============================] - 2s 13ms/step - loss: 0.0015\n",
            "Epoch 10/100\n",
            "123/123 [==============================] - 2s 14ms/step - loss: 0.0014\n",
            "Epoch 11/100\n",
            "123/123 [==============================] - 2s 14ms/step - loss: 0.0013\n",
            "Epoch 12/100\n",
            "123/123 [==============================] - 2s 15ms/step - loss: 0.0014\n",
            "Epoch 13/100\n",
            "123/123 [==============================] - 2s 17ms/step - loss: 0.0014\n",
            "Epoch 14/100\n",
            "123/123 [==============================] - 2s 14ms/step - loss: 0.0013\n",
            "Epoch 15/100\n",
            "123/123 [==============================] - 2s 13ms/step - loss: 0.0012\n",
            "Epoch 16/100\n",
            "123/123 [==============================] - 2s 14ms/step - loss: 0.0012\n",
            "Epoch 17/100\n",
            "123/123 [==============================] - 2s 13ms/step - loss: 0.0012\n",
            "Epoch 18/100\n",
            "123/123 [==============================] - 2s 14ms/step - loss: 0.0012\n",
            "Epoch 19/100\n",
            "123/123 [==============================] - 2s 15ms/step - loss: 0.0015\n",
            "Epoch 20/100\n",
            "123/123 [==============================] - 2s 19ms/step - loss: 0.0012\n",
            "Epoch 21/100\n",
            "123/123 [==============================] - 2s 14ms/step - loss: 0.0010\n",
            "Epoch 22/100\n",
            "123/123 [==============================] - 2s 14ms/step - loss: 9.5969e-04\n",
            "Epoch 23/100\n",
            "123/123 [==============================] - 2s 14ms/step - loss: 9.9802e-04\n",
            "Epoch 24/100\n",
            "123/123 [==============================] - 2s 14ms/step - loss: 9.7683e-04\n",
            "Epoch 25/100\n",
            "123/123 [==============================] - 2s 13ms/step - loss: 9.3393e-04\n",
            "Epoch 26/100\n",
            "123/123 [==============================] - 2s 16ms/step - loss: 9.1289e-04\n",
            "Epoch 27/100\n",
            "123/123 [==============================] - 2s 17ms/step - loss: 8.3835e-04\n",
            "Epoch 28/100\n",
            "123/123 [==============================] - 2s 14ms/step - loss: 8.7823e-04\n",
            "Epoch 29/100\n",
            "123/123 [==============================] - 2s 14ms/step - loss: 8.2763e-04\n",
            "Epoch 30/100\n",
            "123/123 [==============================] - 2s 13ms/step - loss: 8.4861e-04\n",
            "Epoch 31/100\n",
            "123/123 [==============================] - 2s 13ms/step - loss: 9.2176e-04\n",
            "Epoch 32/100\n",
            "123/123 [==============================] - 2s 13ms/step - loss: 7.8995e-04\n",
            "Epoch 33/100\n",
            "123/123 [==============================] - 2s 16ms/step - loss: 7.1258e-04\n",
            "Epoch 34/100\n",
            "123/123 [==============================] - 2s 17ms/step - loss: 8.1524e-04\n",
            "Epoch 35/100\n",
            "123/123 [==============================] - 2s 13ms/step - loss: 8.0279e-04\n",
            "Epoch 36/100\n",
            "123/123 [==============================] - 2s 14ms/step - loss: 7.9452e-04\n",
            "Epoch 37/100\n",
            "123/123 [==============================] - 2s 13ms/step - loss: 7.3720e-04\n",
            "Epoch 38/100\n",
            "123/123 [==============================] - 2s 13ms/step - loss: 8.7683e-04\n",
            "Epoch 39/100\n",
            "123/123 [==============================] - 2s 14ms/step - loss: 8.2603e-04\n",
            "Epoch 40/100\n",
            "123/123 [==============================] - 2s 16ms/step - loss: 7.3746e-04\n",
            "Epoch 41/100\n",
            "123/123 [==============================] - 2s 17ms/step - loss: 7.2479e-04\n",
            "Epoch 42/100\n",
            "123/123 [==============================] - 2s 14ms/step - loss: 7.8053e-04\n",
            "Epoch 43/100\n",
            "123/123 [==============================] - 2s 13ms/step - loss: 6.7580e-04\n",
            "Epoch 44/100\n",
            "123/123 [==============================] - 2s 14ms/step - loss: 7.0865e-04\n",
            "Epoch 45/100\n",
            "123/123 [==============================] - 2s 14ms/step - loss: 6.6112e-04\n",
            "Epoch 46/100\n",
            "123/123 [==============================] - 2s 14ms/step - loss: 6.4014e-04\n",
            "Epoch 47/100\n",
            "123/123 [==============================] - 2s 17ms/step - loss: 6.3223e-04\n",
            "Epoch 48/100\n",
            "123/123 [==============================] - 2s 16ms/step - loss: 7.7196e-04\n",
            "Epoch 49/100\n",
            "123/123 [==============================] - 2s 14ms/step - loss: 6.9133e-04\n",
            "Epoch 50/100\n",
            "123/123 [==============================] - 2s 14ms/step - loss: 6.9571e-04\n",
            "Epoch 51/100\n",
            "123/123 [==============================] - 2s 14ms/step - loss: 7.6603e-04\n",
            "Epoch 52/100\n",
            "123/123 [==============================] - 2s 14ms/step - loss: 6.8996e-04\n",
            "Epoch 53/100\n",
            "123/123 [==============================] - 2s 14ms/step - loss: 6.2679e-04\n",
            "Epoch 54/100\n",
            "123/123 [==============================] - 2s 18ms/step - loss: 5.5620e-04\n",
            "Epoch 55/100\n",
            "123/123 [==============================] - 2s 15ms/step - loss: 6.8231e-04\n",
            "Epoch 56/100\n",
            "123/123 [==============================] - 2s 14ms/step - loss: 7.2725e-04\n",
            "Epoch 57/100\n",
            "123/123 [==============================] - 2s 14ms/step - loss: 5.8913e-04\n",
            "Epoch 58/100\n",
            "123/123 [==============================] - 2s 13ms/step - loss: 6.3845e-04\n",
            "Epoch 59/100\n",
            "123/123 [==============================] - 2s 14ms/step - loss: 6.5158e-04\n",
            "Epoch 60/100\n",
            "123/123 [==============================] - 2s 13ms/step - loss: 6.5996e-04\n",
            "Epoch 61/100\n",
            "123/123 [==============================] - 2s 18ms/step - loss: 6.3558e-04\n",
            "Epoch 62/100\n",
            "123/123 [==============================] - 2s 15ms/step - loss: 6.0091e-04\n",
            "Epoch 63/100\n",
            "123/123 [==============================] - 2s 14ms/step - loss: 6.0087e-04\n",
            "Epoch 64/100\n",
            "123/123 [==============================] - 2s 14ms/step - loss: 6.3764e-04\n",
            "Epoch 65/100\n",
            "123/123 [==============================] - 2s 13ms/step - loss: 6.6928e-04\n",
            "Epoch 66/100\n",
            "123/123 [==============================] - 2s 14ms/step - loss: 5.8985e-04\n",
            "Epoch 67/100\n",
            "123/123 [==============================] - 2s 14ms/step - loss: 7.1614e-04\n",
            "Epoch 68/100\n",
            "123/123 [==============================] - 2s 18ms/step - loss: 5.9675e-04\n",
            "Epoch 69/100\n",
            "123/123 [==============================] - 2s 15ms/step - loss: 6.8161e-04\n",
            "Epoch 70/100\n",
            "123/123 [==============================] - 2s 14ms/step - loss: 6.1251e-04\n",
            "Epoch 71/100\n",
            "123/123 [==============================] - 2s 14ms/step - loss: 6.3535e-04\n",
            "Epoch 72/100\n",
            "123/123 [==============================] - 2s 14ms/step - loss: 5.5870e-04\n",
            "Epoch 73/100\n",
            "123/123 [==============================] - 2s 14ms/step - loss: 5.8955e-04\n",
            "Epoch 74/100\n",
            "123/123 [==============================] - 2s 15ms/step - loss: 6.1023e-04\n",
            "Epoch 75/100\n",
            "123/123 [==============================] - 2s 19ms/step - loss: 6.0006e-04\n",
            "Epoch 76/100\n",
            "123/123 [==============================] - 2s 14ms/step - loss: 5.6953e-04\n",
            "Epoch 77/100\n",
            "123/123 [==============================] - 2s 14ms/step - loss: 5.5446e-04\n",
            "Epoch 78/100\n",
            "123/123 [==============================] - 2s 14ms/step - loss: 5.5232e-04\n",
            "Epoch 79/100\n",
            "123/123 [==============================] - 2s 14ms/step - loss: 4.8294e-04\n",
            "Epoch 80/100\n",
            "123/123 [==============================] - 2s 13ms/step - loss: 6.3034e-04\n",
            "Epoch 81/100\n",
            "123/123 [==============================] - 2s 13ms/step - loss: 6.1255e-04\n",
            "Epoch 82/100\n",
            "123/123 [==============================] - 2s 19ms/step - loss: 5.1342e-04\n",
            "Epoch 83/100\n",
            "123/123 [==============================] - 2s 14ms/step - loss: 5.8900e-04\n",
            "Epoch 84/100\n",
            "123/123 [==============================] - 2s 13ms/step - loss: 5.9666e-04\n",
            "Epoch 85/100\n",
            "123/123 [==============================] - 2s 14ms/step - loss: 5.4044e-04\n",
            "Epoch 86/100\n",
            "123/123 [==============================] - 2s 14ms/step - loss: 5.7363e-04\n",
            "Epoch 87/100\n",
            "123/123 [==============================] - 2s 14ms/step - loss: 5.8212e-04\n",
            "Epoch 88/100\n",
            "123/123 [==============================] - 2s 14ms/step - loss: 5.1081e-04\n",
            "Epoch 89/100\n",
            "123/123 [==============================] - 2s 19ms/step - loss: 6.1159e-04\n",
            "Epoch 90/100\n",
            "123/123 [==============================] - 2s 14ms/step - loss: 5.5245e-04\n",
            "Epoch 91/100\n",
            "123/123 [==============================] - 2s 14ms/step - loss: 5.1801e-04\n",
            "Epoch 92/100\n",
            "123/123 [==============================] - 2s 14ms/step - loss: 5.2707e-04\n",
            "Epoch 93/100\n",
            "123/123 [==============================] - 2s 14ms/step - loss: 5.7412e-04\n",
            "Epoch 94/100\n",
            "123/123 [==============================] - 2s 14ms/step - loss: 6.2057e-04\n",
            "Epoch 95/100\n",
            "123/123 [==============================] - 2s 15ms/step - loss: 6.2958e-04\n",
            "Epoch 96/100\n",
            "123/123 [==============================] - 2s 18ms/step - loss: 5.0796e-04\n",
            "Epoch 97/100\n",
            "123/123 [==============================] - 2s 14ms/step - loss: 5.1698e-04\n",
            "Epoch 98/100\n",
            "123/123 [==============================] - 2s 14ms/step - loss: 5.7017e-04\n",
            "Epoch 99/100\n",
            "123/123 [==============================] - 2s 13ms/step - loss: 5.5844e-04\n",
            "Epoch 100/100\n",
            "123/123 [==============================] - 2s 14ms/step - loss: 4.9327e-04\n"
          ]
        },
        {
          "output_type": "execute_result",
          "data": {
            "text/plain": [
              "<keras.src.callbacks.History at 0x7c4249ca4a90>"
            ]
          },
          "metadata": {},
          "execution_count": 56
        }
      ],
      "source": [
        "# Adding the output layer\n",
        "model.add(Dense(units = 1))\n",
        "\n",
        "# Compiling the RNN\n",
        "model.compile(optimizer = 'adam', loss = 'mean_squared_error')\n",
        "\n",
        "# Fitting the RNN to the Training set\n",
        "model.fit(X_train, y_train, epochs = 100, batch_size = 16)\n",
        "\n"
      ]
    },
    {
      "cell_type": "markdown",
      "source": [
        "### Making the predictions and visualising the result"
      ],
      "metadata": {
        "id": "TiAlrQqFAxOU"
      }
    },
    {
      "cell_type": "code",
      "execution_count": null,
      "metadata": {
        "id": "mqxC8XvK4FRM"
      },
      "outputs": [],
      "source": [
        "# Getting the real stock price of 2017\n",
        "dataset_test = pd.read_csv('TATAGLOBAL-test.csv')\n",
        "real_stock_price = dataset_test.iloc[:, 5:6].values"
      ]
    },
    {
      "cell_type": "code",
      "execution_count": null,
      "metadata": {
        "id": "i3aVVS5y4FRN",
        "colab": {
          "base_uri": "https://localhost:8080/"
        },
        "outputId": "094877fd-6f7d-44b7-9e0d-bfc643b70458"
      },
      "outputs": [
        {
          "output_type": "stream",
          "name": "stderr",
          "text": [
            "WARNING:tensorflow:5 out of the last 5 calls to <function Model.make_predict_function.<locals>.predict_function at 0x7c423c4eba30> triggered tf.function retracing. Tracing is expensive and the excessive number of tracings could be due to (1) creating @tf.function repeatedly in a loop, (2) passing tensors with different shapes, (3) passing Python objects instead of tensors. For (1), please define your @tf.function outside of the loop. For (2), @tf.function has reduce_retracing=True option that can avoid unnecessary retracing. For (3), please refer to https://www.tensorflow.org/guide/function#controlling_retracing and https://www.tensorflow.org/api_docs/python/tf/function for  more details.\n"
          ]
        },
        {
          "output_type": "stream",
          "name": "stdout",
          "text": [
            "1/1 [==============================] - 1s 1s/step\n"
          ]
        }
      ],
      "source": [
        "# Getting the predicted stock price of 2017\n",
        "dataset_total = pd.concat((df['Close'], dataset_test['Close']), axis = 0)\n",
        "inputs = dataset_total[len(dataset_total) - len(dataset_test) - 70:].values\n",
        "inputs = inputs.reshape(-1,1)\n",
        "inputs = sc.transform(inputs)\n",
        "X_test = []\n",
        "for i in range(70, 86):\n",
        "    X_test.append(inputs[i-70:i, 0])\n",
        "X_test = np.array(X_test)\n",
        "X_test = np.reshape(X_test, (X_test.shape[0], X_test.shape[1], 1))\n",
        "predicted_stock_price = model.predict(X_test)\n",
        "predicted_stock_price = sc.inverse_transform(predicted_stock_price)\n"
      ]
    },
    {
      "cell_type": "markdown",
      "source": [
        "###Visualising"
      ],
      "metadata": {
        "id": "0O63meqyBZve"
      }
    },
    {
      "cell_type": "code",
      "execution_count": null,
      "metadata": {
        "id": "VCjLD9_B4FRN",
        "outputId": "87b73333-8e9b-4c4a-b2bd-417601106074",
        "colab": {
          "base_uri": "https://localhost:8080/",
          "height": 472
        }
      },
      "outputs": [
        {
          "output_type": "display_data",
          "data": {
            "text/plain": [
              "<Figure size 640x480 with 1 Axes>"
            ],
            "image/png": "[encoded data removed]"
          },
          "metadata": {}
        }
      ],
      "source": [
        "plt.plot(real_stock_price, color = 'green', label = 'Real TATA Stock Price')\n",
        "plt.plot(predicted_stock_price, color = 'red', label = 'Predicted TAT Stock Price')\n",
        "plt.title('TATA Stock Price Prediction')\n",
        "plt.xlabel('Time')\n",
        "plt.ylabel('TATA Stock Price')\n",
        "plt.legend()\n",
        "plt.show()"
      ]
    }
  ],
  "metadata": {
    "kernelspec": {
      "display_name": "Python 3",
      "name": "python3"
    },
    "language_info": {
      "codemirror_mode": {
        "name": "ipython",
        "version": 3
      },
      "file_extension": ".py",
      "mimetype": "text/x-python",
      "name": "python",
      "nbconvert_exporter": "python",
      "pygments_lexer": "ipython3",
      "version": "3.6.6"
    },
    "colab": {
      "provenance": [],
      "gpuType": "T4"
    },
    "accelerator": "GPU"
  },
  "nbformat": 4,
  "nbformat_minor": 0
}